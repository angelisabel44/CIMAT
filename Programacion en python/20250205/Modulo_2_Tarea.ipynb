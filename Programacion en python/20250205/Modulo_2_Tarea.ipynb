{
 "cells": [
  {
   "cell_type": "code",
   "execution_count": 2,
   "id": "e923886d-6ed1-4bae-b9ed-ddd737d3a623",
   "metadata": {},
   "outputs": [
    {
     "name": "stdin",
     "output_type": "stream",
     "text": [
      "Escribe el nombre del producto:  Jabon\n",
      "Escribe el precio del producto:  13.50\n"
     ]
    },
    {
     "name": "stdout",
     "output_type": "stream",
     "text": [
      "Jabon 13.5\n"
     ]
    }
   ],
   "source": [
    "nombre_producto = input('Escribe el nombre del producto: ')\n",
    "precio_producto = float(input('Escribe el precio del producto: '))\n",
    "print(nombre_producto, precio_producto)"
   ]
  },
  {
   "cell_type": "code",
   "execution_count": 4,
   "id": "9959bc60-3b23-452c-8483-765bbf6e992a",
   "metadata": {},
   "outputs": [
    {
     "name": "stdin",
     "output_type": "stream",
     "text": [
      "Escribe tu edad:  14\n"
     ]
    },
    {
     "name": "stdout",
     "output_type": "stream",
     "text": [
      "14\n"
     ]
    }
   ],
   "source": [
    "edad_cliente = int(input('Escribe tu edad: '))\n",
    "if edad_cliente < 0:\n",
    "    print('Edad menor a cero.')\n",
    "elif edad_cliente < 18:\n",
    "    print('Edad menor a 18.')\n",
    "else:\n",
    "    print(edad_cliente)"
   ]
  },
  {
   "cell_type": "code",
   "execution_count": null,
   "id": "d73b765e-e884-401d-a266-0144f46bfba6",
   "metadata": {},
   "outputs": [],
   "source": []
  },
  {
   "cell_type": "code",
   "execution_count": null,
   "id": "b1efbfcb-524e-4bf6-afa7-85e2ea1109c4",
   "metadata": {},
   "outputs": [],
   "source": []
  }
 ],
 "metadata": {
  "kernelspec": {
   "display_name": "Python 3 (ipykernel)",
   "language": "python",
   "name": "python3"
  },
  "language_info": {
   "codemirror_mode": {
    "name": "ipython",
    "version": 3
   },
   "file_extension": ".py",
   "mimetype": "text/x-python",
   "name": "python",
   "nbconvert_exporter": "python",
   "pygments_lexer": "ipython3",
   "version": "3.12.4"
  }
 },
 "nbformat": 4,
 "nbformat_minor": 5
}
