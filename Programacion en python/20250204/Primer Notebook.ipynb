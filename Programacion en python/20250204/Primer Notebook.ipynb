{
 "cells": [
  {
   "cell_type": "markdown",
   "id": "f7b0e1da-bc0f-40ac-b5f8-8d832d2d5176",
   "metadata": {},
   "source": [
    "# Mi primer Notebook"
   ]
  },
  {
   "cell_type": "code",
   "execution_count": 1,
   "id": "67955c1e-a7f8-4744-933f-56183d449cfa",
   "metadata": {},
   "outputs": [],
   "source": [
    "es_mayor = True\n",
    "es_menor = False"
   ]
  },
  {
   "cell_type": "code",
   "execution_count": 2,
   "id": "da4bfc1a-6230-462b-b811-654a3d3b8b5a",
   "metadata": {},
   "outputs": [
    {
     "name": "stdout",
     "output_type": "stream",
     "text": [
      "Valor de es_mayor:  True\n",
      "Valor de es_menor:  False\n"
     ]
    }
   ],
   "source": [
    "print('Valor de es_mayor: ', es_mayor)\n",
    "print('Valor de es_menor: ', es_menor)"
   ]
  },
  {
   "cell_type": "code",
   "execution_count": 3,
   "id": "2a1b7ac2-5277-4684-8881-63fe50ce28c4",
   "metadata": {},
   "outputs": [
    {
     "name": "stdout",
     "output_type": "stream",
     "text": [
      "El tipo de dato de es_mayor:  <class 'bool'>\n",
      "El tipo de dato de es_menor:  <class 'bool'>\n"
     ]
    }
   ],
   "source": [
    "print('El tipo de dato de es_mayor: ', type(es_mayor))\n",
    "print('El tipo de dato de es_menor: ', type(es_menor))"
   ]
  },
  {
   "cell_type": "code",
   "execution_count": 4,
   "id": "6e01831e-d59a-4158-8bda-ec77e29b0b21",
   "metadata": {},
   "outputs": [
    {
     "name": "stdout",
     "output_type": "stream",
     "text": [
      "0\n"
     ]
    }
   ],
   "source": [
    "edad = 25\n",
    "type (edad)\n",
    "temperatura = -5\n",
    "type (temperatura)\n",
    "ceros = 0\n",
    "type (ceros)\n",
    "print (ceros)"
   ]
  },
  {
   "cell_type": "code",
   "execution_count": 5,
   "id": "21949fc5-77c3-473c-8869-8aa787ce850d",
   "metadata": {},
   "outputs": [],
   "source": [
    "nombre = \"Angel\"\n",
    "saludo = '¡Hello!'\n",
    "parrafo = \"\"\"Este es un texto\n",
    "que abarca varias\n",
    "líneas.\"\"\"\n",
    "num_binario = 0b1011  # Representa el número decimal 11\n",
    "num_octal = 0o13  # Representa el número decimal 11\n",
    "num_decimal = 11  # Representa el número 11\n",
    "num_hexadecimal = 0xB  # Representa el número decimal 11"
   ]
  },
  {
   "cell_type": "code",
   "execution_count": 7,
   "id": "df0476c7-923b-45c8-9f89-c02413e2c070",
   "metadata": {},
   "outputs": [
    {
     "name": "stdout",
     "output_type": "stream",
     "text": [
      "11\n",
      "11\n",
      "0xb\n",
      "0b1011\n",
      "11\n"
     ]
    }
   ],
   "source": [
    "print(int(0b1011))\n",
    "print(int(0o13))\n",
    "print(hex (11))\n",
    "print(bin(11))\n",
    "print(int(0xB))"
   ]
  },
  {
   "cell_type": "code",
   "execution_count": 10,
   "id": "2b972f85-2349-4de7-8d8c-6830852c7cbc",
   "metadata": {},
   "outputs": [
    {
     "name": "stdout",
     "output_type": "stream",
     "text": [
      "8\n",
      "2\n",
      "42\n",
      "2.6666666666666665\n"
     ]
    }
   ],
   "source": [
    "resultado = 5 + 3  # Suma 5 y 3. El resultado es 8.\n",
    "print(resultado)\n",
    "\n",
    "resultado = 5 - 3  # Resta 3 de 5. El resultado es 2.\n",
    "print (resultado)\n",
    "\n",
    "resultado = 6 * 7  # Multiplica 6 por 7, lo que da 42.\n",
    "print (resultado)\n",
    "\n",
    "resultado = 8 / 3  # Divide 8 entre 3. El resultado es 2.666... (un número de punto flotante).\n",
    "\n",
    "print (resultado)"
   ]
  },
  {
   "cell_type": "code",
   "execution_count": null,
   "id": "ea31f107-a40f-488b-b39f-4fb25e521c85",
   "metadata": {},
   "outputs": [],
   "source": []
  }
 ],
 "metadata": {
  "kernelspec": {
   "display_name": "Python 3 (ipykernel)",
   "language": "python",
   "name": "python3"
  },
  "language_info": {
   "codemirror_mode": {
    "name": "ipython",
    "version": 3
   },
   "file_extension": ".py",
   "mimetype": "text/x-python",
   "name": "python",
   "nbconvert_exporter": "python",
   "pygments_lexer": "ipython3",
   "version": "3.12.4"
  }
 },
 "nbformat": 4,
 "nbformat_minor": 5
}
