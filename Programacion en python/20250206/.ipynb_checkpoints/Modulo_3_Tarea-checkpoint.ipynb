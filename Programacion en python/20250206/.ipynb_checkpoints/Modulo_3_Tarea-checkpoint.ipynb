{
 "cells": [
  {
   "cell_type": "code",
   "execution_count": 15,
   "id": "6a153dde-23ba-4fb8-a74a-ad9f2d824a7c",
   "metadata": {},
   "outputs": [
    {
     "name": "stdin",
     "output_type": "stream",
     "text": [
      "Cantidad de votantes:  3\n",
      "Votante 1, ingresa por quien vota:  angel\n"
     ]
    },
    {
     "name": "stdout",
     "output_type": "stream",
     "text": [
      "Candidato no encontrado.\n"
     ]
    },
    {
     "name": "stdin",
     "output_type": "stream",
     "text": [
      "Votante 2, ingresa por quien vota:  lili\n"
     ]
    },
    {
     "name": "stdout",
     "output_type": "stream",
     "text": [
      "Candidato no encontrado.\n"
     ]
    },
    {
     "name": "stdin",
     "output_type": "stream",
     "text": [
      "Votante 3, ingresa por quien vota:  xochitl\n"
     ]
    },
    {
     "name": "stdout",
     "output_type": "stream",
     "text": [
      "xochitl\n"
     ]
    }
   ],
   "source": [
    "candidatos = ['xochitl', 'claudia', 'jorge']\n",
    "votos = [0 for i in candidatos]\n",
    "\n",
    "cantidad_de_votantes = int(input('Cantidad de votantes: '))\n",
    "\n",
    "for i in range(cantidad_de_votantes):\n",
    "    voto = input(f'Votante {i + 1}, ingresa por quien votas: ')\n",
    "    if voto.lower() in candidatos:\n",
    "        for j in range(len(candidatos)):\n",
    "            if voto.lower() == candidatos[j]:\n",
    "                votos[j] += 1\n",
    "    else:\n",
    "        print('Candidato no encontrado.')\n",
    "\n",
    "print('Ganador: ', candidatos[votos.index(max(votos))])"
   ]
  }
 ],
 "metadata": {
  "kernelspec": {
   "display_name": "Python 3 (ipykernel)",
   "language": "python",
   "name": "python3"
  },
  "language_info": {
   "codemirror_mode": {
    "name": "ipython",
    "version": 3
   },
   "file_extension": ".py",
   "mimetype": "text/x-python",
   "name": "python",
   "nbconvert_exporter": "python",
   "pygments_lexer": "ipython3",
   "version": "3.12.4"
  }
 },
 "nbformat": 4,
 "nbformat_minor": 5
}
