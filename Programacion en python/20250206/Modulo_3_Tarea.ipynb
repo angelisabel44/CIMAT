{
 "cells": [
  {
   "cell_type": "code",
   "execution_count": 15,
   "id": "6a153dde-23ba-4fb8-a74a-ad9f2d824a7c",
   "metadata": {},
   "outputs": [
    {
     "name": "stdin",
     "output_type": "stream",
     "text": [
      "Cantidad de votantes:  3\n",
      "Votante 1, ingresa por quien vota:  angel\n"
     ]
    },
    {
     "name": "stdout",
     "output_type": "stream",
     "text": [
      "Candidato no encontrado.\n"
     ]
    },
    {
     "name": "stdin",
     "output_type": "stream",
     "text": [
      "Votante 2, ingresa por quien vota:  lili\n"
     ]
    },
    {
     "name": "stdout",
     "output_type": "stream",
     "text": [
      "Candidato no encontrado.\n"
     ]
    },
    {
     "name": "stdin",
     "output_type": "stream",
     "text": [
      "Votante 3, ingresa por quien vota:  xochitl\n"
     ]
    },
    {
     "name": "stdout",
     "output_type": "stream",
     "text": [
      "xochitl\n"
     ]
    }
   ],
   "source": [
    "candidatos = ['xochitl', 'claudia', 'jorge']\n",
    "votos = [0 for i in candidatos]\n",
    "\n",
    "cantidad_de_votantes = int(input('Cantidad de votantes: '))\n",
    "\n",
    "for i in range(cantidad_de_votantes):\n",
    "    voto = input(f'Votante {i + 1}, ingresa por quien votas: ')\n",
    "    if voto.lower() in candidatos:\n",
    "        for j in range(len(candidatos)):\n",
    "            if voto.lower() == candidatos[j]:\n",
    "                votos[j] += 1\n",
    "    else:\n",
    "        print('Candidato no encontrado.')\n",
    "\n",
    "print('Ganador: ', candidatos[votos.index(max(votos))])"
   ]
  },
  {
   "cell_type": "code",
   "execution_count": 16,
   "id": "427d38ea-75a8-42ca-9bf3-8fbf0a8114ae",
   "metadata": {},
   "outputs": [
    {
     "name": "stdout",
     "output_type": "stream",
     "text": [
      "Angel\n"
     ]
    }
   ],
   "source": [
    "lista_nombres = [\"Ana\", \"Luis\", \"Pedro\", \"Raúl\", \"María\"]\n",
    "\n",
    "encontrar = input('Escribe el nombre a buscar: ')\n",
    "\n",
    "for l in lista_nombres:\n",
    "    if encontrar.capitalize() == l:\n",
    "        print('Encontrado.')\n",
    "        break\n",
    "else:\n",
    "    print('angel'.capitalize())\n"
   ]
  },
  {
   "cell_type": "code",
   "execution_count": 20,
   "id": "d6d6ce0a-35cb-4426-a060-7a6b5a39ed95",
   "metadata": {},
   "outputs": [
    {
     "name": "stdin",
     "output_type": "stream",
     "text": [
      "Ingresa el numero:  4\n"
     ]
    },
    {
     "name": "stdout",
     "output_type": "stream",
     "text": [
      "¡Felicidades, adivinaste el numero!\n"
     ]
    }
   ],
   "source": [
    "numero_secreto = 4\n",
    "numero_de_intentos = 5\n",
    "\n",
    "for i in range(numero_de_intentos):\n",
    "    numero = int(input('Ingresa el numero: '))\n",
    "    if numero == numero_secreto:\n",
    "        print('¡Felicidades, adivinaste el numero!')\n",
    "        break\n",
    "    else:\n",
    "        if numero < numero_secreto:\n",
    "            print('El numero es menor al secreto')\n",
    "        else:\n",
    "            print('El numero es mayor al secreto')\n",
    "else:\n",
    "    print('Lo siento acabaron los intentos.')\n",
    "\n"
   ]
  },
  {
   "cell_type": "code",
   "execution_count": 22,
   "id": "153e11e5-2536-4319-b9c0-8971dffaf571",
   "metadata": {},
   "outputs": [
    {
     "name": "stdout",
     "output_type": "stream",
     "text": [
      "0 1\n",
      "1\n",
      "2\n",
      "3\n",
      "5\n",
      "8\n",
      "13\n",
      "21\n",
      "34\n",
      "55\n",
      "89\n"
     ]
    }
   ],
   "source": [
    "primer_numero = 0\n",
    "segundo_numero = 1\n",
    "\n",
    "interaciones_max = 10\n",
    "\n",
    "print(primer_numero, segundo_numero)\n",
    "\n",
    "i = 0\n",
    "while True:\n",
    "    primer_numero, segundo_numero = segundo_numero, primer_numero + segundo_numero\n",
    "    print(segundo_numero)\n",
    "    i += 1\n",
    "    if i >= interaciones_max:\n",
    "        break\n"
   ]
  },
  {
   "cell_type": "code",
   "execution_count": null,
   "id": "b40580fb-130a-4344-8958-f3752d28fc2a",
   "metadata": {},
   "outputs": [],
   "source": [
    "ultimo_trimestre = input('Escriba la ventas del ultimo trimestre: ')\n",
    "anterior_trimestre = input('Escriba la ventas del trimestre anterior: ')\n",
    "\n",
    "crecimiento = (ultimo_trimestre - anterior_trimestre) / anterior_trimestre\n",
    "\n",
    "if ultimo_trimestre > 1000000 and crecimiento > 0.05:\n",
    "    bono = 1.10\n",
    "elif: ultimo_trimestre > 500000 and crecimiento >= 0.03:\n",
    "    bono = 1.05\n",
    "elif crecimiento == 0:\n",
    "    bono = 1\n",
    "\n",
    "\n"
   ]
  }
 ],
 "metadata": {
  "kernelspec": {
   "display_name": "Python 3 (ipykernel)",
   "language": "python",
   "name": "python3"
  },
  "language_info": {
   "codemirror_mode": {
    "name": "ipython",
    "version": 3
   },
   "file_extension": ".py",
   "mimetype": "text/x-python",
   "name": "python",
   "nbconvert_exporter": "python",
   "pygments_lexer": "ipython3",
   "version": "3.12.4"
  }
 },
 "nbformat": 4,
 "nbformat_minor": 5
}
