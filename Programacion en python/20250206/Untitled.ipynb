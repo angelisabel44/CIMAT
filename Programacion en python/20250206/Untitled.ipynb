{
 "cells": [
  {
   "cell_type": "code",
   "execution_count": null,
   "id": "8f9ff14d-046a-439a-83b7-e012a13dacea",
   "metadata": {},
   "outputs": [
    {
     "name": "stdin",
     "output_type": "stream",
     "text": [
      "Escribe usuario:  angisabel44\n",
      "Escribe contraseña:  abc12345\n"
     ]
    },
    {
     "name": "stdout",
     "output_type": "stream",
     "text": [
      "Acceso denegado\n"
     ]
    }
   ],
   "source": [
    "usuario_correcto = 'angisabel44'\n",
    "contrasena_correcto = 'acb12345'\n",
    "cantidad_max_intentos = 3\n",
    "\n",
    "i = 0\n",
    "while i < cantidad_max_intentos:\n",
    "    usuario = input('Escribe usuario: ')\n",
    "    contrasena = input('Escribe contraseña: ')\n",
    "\n",
    "    if usuario == usuario_correcto and contrasena == contrasena_correcto:\n",
    "        print('Acceso concedido.')\n",
    "        break\n",
    "    elif i == 2:\n",
    "        print('Cuenta bloqueada.')\n",
    "    else:\n",
    "        print('Acceso denegado')\n",
    "    i += 1"
   ]
  },
  {
   "cell_type": "code",
   "execution_count": 2,
   "id": "a42f2f36-ca3f-4882-abab-bbe0f61da496",
   "metadata": {},
   "outputs": [
    {
     "data": {
      "text/plain": [
       "6.011167271772628"
      ]
     },
     "execution_count": 2,
     "metadata": {},
     "output_type": "execute_result"
    }
   ],
   "source": [
    "m = 0.219\n",
    "FS = 0.25\n",
    "sigma_y = 1700\n",
    "b = 1200\n",
    "w = 19800\n",
    "p = 7.841717E-6\n",
    "ID = 711\n",
    "Ab = 25\n",
    "sigma_falla = 601\n",
    "t = 26\n",
    "((m*FS*sigma_y*b*t*t)/(((w/(b*p*3.1416)+(ID/2)**2))**(1/2)*Ab))/(sigma_falla-FS*151.7)"
   ]
  },
  {
   "cell_type": "code",
   "execution_count": null,
   "id": "3710ab96-9202-424b-81ee-fdeb2f896f72",
   "metadata": {},
   "outputs": [],
   "source": []
  }
 ],
 "metadata": {
  "kernelspec": {
   "display_name": "Python 3 (ipykernel)",
   "language": "python",
   "name": "python3"
  },
  "language_info": {
   "codemirror_mode": {
    "name": "ipython",
    "version": 3
   },
   "file_extension": ".py",
   "mimetype": "text/x-python",
   "name": "python",
   "nbconvert_exporter": "python",
   "pygments_lexer": "ipython3",
   "version": "3.12.4"
  }
 },
 "nbformat": 4,
 "nbformat_minor": 5
}
